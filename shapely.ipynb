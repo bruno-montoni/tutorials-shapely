{
 "cells": [
  {
   "cell_type": "markdown",
   "metadata": {},
   "source": [
    "# ```Shapely``` Tutorial #\n",
    "\n",
    "### What is ```Shapely```? ###\n",
    "```Shapely``` is a Python package for set-theoretic analysis and manipulation of planar features using functions from ```GEOS``` library. ```Shapely``` is thereby deeply rooted in the conventions of the Geographic Information Systems (GIS), but aspires to be equally useful for non-conventional problems.\n",
    "\n",
    "### Instalation ###\n",
    "```H3``` can be installed via ```pip3 install shapely```.\n",
    "\n",
    "### Spatial Data Model ###\n",
    "The fundamental types of geometric objects implemented are:\n",
    "- ```Point```: has an ```interior``` set of exactly 1 point, a ```boundary``` set of exactly 0 points, and an ```exterior``` set of all other points (a topological dimension of 0);\n",
    "- ```Curve```: has an ```interior``` set consisting of infinite points along its length, a ```boundary``` set consisting of its 2 end points, and an ```exterior``` set of all other points (a topological dimension of 1);\n",
    "- ```Surface```: has an ```interior``` set consisting of infinite points within it, a ```boundary``` set consisting of 1+ ```Curves```, and an ```exterior``` set of all other points, including those within holes that might exist in the ```Surface``` (a topological dimension of 2);\n",
    "\n",
    "```interior```, ```boundary``` and ```exterior``` sets of a feature are mutually exclusive and their union coincides with the entire plane.\n",
    "\n",
    "### Geometric Objects ###\n",
    "- ```Point(x, y)```: takes positional coordinate values (```x```/```y```) or tupled parameters;\n",
    "    - ```Point.area```: returns the area (always 0);\n",
    "    - ```Point.length```: returns the length (always 0);\n",
    "    - ```Point.bounds```: returns the x-y bounding box (```minx```, ```miny```, ```maxx```, ```maxy```);\n",
    "    - ```Point.coords```: returns a tuple with ```x```/```y``` coordinates (those can be accessed via ```Point.x```/```Point.y```);\n",
    "- ```LineString([tuples])```: represents 1+ connected linear splines between point tuples;\n",
    "    - ```LineString.area```: returns the area (always 0);\n",
    "    - ```LineString.length```: returns the length;\n",
    "    - ```LineString.bounds```: returns the x-y bounding box (```minx```, ```miny```, ```maxx```, ```maxy```);\n",
    "    - ```LineString.coords```: returns a list of tuples (each with ```x```/```y``` coordinates);\n",
    "- ```LinearRing([tuples])```: represents 2+ connected linear splines that can be explicitly (same first/last vertices) or implicitly (no repetition) closed;\n",
    "    - ```LinearRing.area```: returns the area (always 0 - despite being closed, it's made only of edges);\n",
    "    - ```LinearRing.length```: returns the length;\n",
    "    - ```LinearRing.bounds```: returns the x-y bounding box (```minx```, ```miny```, ```maxx```, ```maxy```);\n",
    "    - ```LinearRing.coords```: returns a list of tuples (each with ```x```/```y``` coordinates);\n",
    "- ```Polygon(shell=[tuples], holes=[tuples])```: ```shell``` represents 2+ connected linear splines (passed as list of point tuples) and ```holes``` represents 2+ connected splines (also passed as point tuples) that will be cut out from the final polygon - ```holes``` points can only touch the exterior ring once for a valid polygon;\n",
    "    - ```Polygon.area```: returns the area;\n",
    "    - ```Polygon.length```: returns the length;\n",
    "    - ```Polygon.bounds```: returns the x-y bounding box (```minx```, ```miny```, ```maxx```, ```maxy```);\n",
    "    - ```Polygon.exterior/interior.coords```: returns a list of tuples (each with ```x```/```y``` coordinates) for outside/interior edges;\n",
    "\n",
    "### Collections ###\n",
    "```Collections``` are immutable collections of geometric objects that can be homogeneous (same type) or heterogeneous and usually result from ```Shapely``` operations.\n",
    "- ```Points```\n",
    "    - ```MultiPoint([tuples])```: returns a collection of ```Point```s;\n",
    "        - ```MultiPoint.area```: returns the area (always 0);\n",
    "        - ```MultiPoint.length```: returns the length (always 0);\n",
    "        - ```MultiPoint.bounds```: returns the x-y bounding box (```minx```, ```miny```, ```maxx```, ```maxy```), considering all ```Point```s;\n",
    "        - ```list(Point.geoms)```: returns list with all ```Point``` objects;\n",
    "- ```Lines```\n",
    "    - ```MultiLineString([lines])```: returns a collection of ```LineString```s;\n",
    "        - ```MultiLineString.area```: returns the area (always 0);\n",
    "        - ```MultiLineString.length```: returns the length;\n",
    "        - ```MultiLineString.bounds```: returns the x-y bounding box (```minx```, ```miny```, ```maxx```, ```maxy```);\n",
    "        - ```list(MultiLineString.geoms)```: returns list with all ```LineString``` objects;\n",
    "\n",
    "- ```Polygon```\n",
    "    - ```MultiPolygon([polygons])```: returns a collection of ```Polygon```s (those can't have more than 1 shared points);\n",
    "        - ```MultiPolygon.bounds```: returns the x-y bounding box (```minx```, ```miny```, ```maxx```, ```maxy```);\n",
    "        - ```lsit(MultiPolygon.geoms)```: returns list with all ```Polygon``` objects;\n",
    "\n",
    "### Linear Referencing Methods ###\n",
    "Useful to specify position along linear features such as ```LineStrings```/```MultiLineStrings``` with a 1-dimensional referencing system.\n",
    "- ```object.interpolate(distance, normalized=False)```: \"walks\" along ```object``` and returns the coordinates of the point at ```distance``` (```normalized``` interprets distance as a percentage of ```object```'s length);\n",
    "- ```object.project(other, normalized=False)```: returns ```object```'s distance to ```other``` (```normalized``` interprets distance as a percentage of ```object```'s length);\n",
    "\n",
    "### Unary Predicates ###\n",
    "Implemented as read-only property attributes.\n",
    "- ```object.is_ccw```: returns ```True``` if ```object```'s coordinates are in counter-clockwise order (applies to ```LinearRing``` only);\n",
    "- ```object.is_simple```: returns ```True``` if ```object``` does not cross itself;\n",
    "- ```object.is_ring```: returns ```True``` if ```object``` is a closed and simple ```LineString```\n",
    "\n",
    "### Binary Predicates ###\n",
    "Evaluate topological, set-theoretic relationships, and return ```True```/```False```. Both ```object```/```other``` must be geometric objects.\n",
    "- ```object.__eq__(other)```: returns ```True``` if both ```object```/```other``` are of same type and coordinates match;\n",
    "- ```object.equals(other)```: returns ```True``` if ```object```'s ```boundary```/```interior```/```exterior``` match ```other```'s;\n",
    "- ```object.contains(other)```: return ```True``` if no points of ```other``` lie in the exterior of ```object```'s (and at least one point of ```other```'s ```interior``` lies in ```object```'s ```interior```);\n",
    "- ```object.covers(other)```: returns ```True``` if every point of ```other``` is in ```object```'s ```interior```/```boundary```;\n",
    "- ```object.crosses(other)```: returns ```True``` if ```object```'s ```interior``` intersects ```other```'s ```interior``` but doesnt contain it;\n",
    "- ```object.intersects(other)```: returns ```True``` if ```object```'s ```interior``` and ```boundary``` intersect ```other```'s;\n",
    "- ```object.overlaps(other)```: returns ```True``` if geometries have 1+ (but not all) point in common and their ```interior```s intersection has same dimension as geometries;\n",
    "- ```object.touches(other)```: returns ```True``` if geometries have at least 1 point in common and their ```interior```s dont intersect;\n",
    "\n",
    "### Set-Theoretic Methods ###\n",
    "These methods will always return a geometric object.\n",
    "- ```object.boundary```: returns ```object```'s ```boundary``` (a polygon's is a line, a line's is a collection of points, a point's is an empty collection);\n",
    "- ```object.centroid```: returns ```object```'s geometric centroid;\n",
    "- ```object.difference(other)```: returns a representation of points of ```object``` that are not in ```other```;\n",
    "- ```object.intersection(other)```: returns a representation of ```object``` and ```other``` intersection points;\n",
    "\n",
    "### Constructive Methods ###\n",
    "Yields new objects not derived from set-theoretic analysis.\n",
    "- ```object.buffer(distance, quad_segs=16, cap_style=1, join_style=1)```: returns an approx representation of points within a given ```distance``` of ```object``` (like a *confidence interval*);\n",
    "    - ```distance```: defines dialation (if positive) and erosion (if negative);\n",
    "    - ```quad_segs```: determines number of segments used to approximate a quarter circle around a point;\n",
    "    - ```cap_style```: 1) ```round```; 2) ```flat```; 3) ```square```;\n",
    "    - ```join_style```: 1) ```round```; 2) ```mitre```; 3) ```bevel```;\n",
    "- ```object.convex_hull```: returns representation of smallest convex ```Polygon``` containing all points in ```object``` (unless number of points in ```object``` is less than 3);\n",
    "- ```object.envelope```: returns representation of point/smallest rectangular polygon (with sides parallel to coordinate axes) that contains ```object```;\n",
    "- ```object.simplify(tolerance, preserve_topology=True)```: returns simplified representation of ```object```;\n",
    "\n",
    "### Affine Transformations ###\n",
    "Return transformed geometries (all except ```Collections```) by either directly supplying coefficients to a transformation matrix, or by using a specific transform (```rotate```, ```scale```, etc.).\n",
    "- ```shapely.affinity.affine_transform(geom, matrix)```: returns a transformed ```geom``` using ```matrix``` (a transformation matrix as a list/tuple of 6 coefficients as: ```[a, b, d, e, xoff, yoff]```);\n",
    "- ```shapely.affinity.rotate(geom, angle, origin='center', use_radians=False)```: returns a rotated ```geom``` on a 2D plane by ```angle``` (default: degrees; check ```use_radians```) with ```origin``` as ```center``` (of bounding box) / ```centroid``` / coordinates tuple;\n",
    "- ```shapely.affinity.scale(geom, xfact=1.0, yfact=1.0, zfact=1.0, origin='center')```: returns a scaled ```geom```, scaled by factors along each dimension (```_fact```);\n",
    "- ```shapely.affinity.translate(geom, xoff=0.0, yoff=0.0, zoff=0.0)```: returns a translated ```geom``` shifted by offsets along each dimension (```_off```);\n",
    "\n",
    "### Nearest Points ###\n",
    "- ```shapely.ops.nearest_points(geom1, geom2)```: returns a tuple of nearest points in ```geom1```/```gemo2``` (returned points have same order as geometries);\n",
    "\n",
    "\n",
    "### Documentation ###\n",
    "- H3 Documentation - [Link](https://h3geo.org/docs/api/indexing);\n",
    "\n",
    "\n",
    "---"
   ]
  },
  {
   "cell_type": "markdown",
   "metadata": {},
   "source": [
    "### Importing Dependencies ###"
   ]
  },
  {
   "cell_type": "code",
   "execution_count": 140,
   "metadata": {},
   "outputs": [],
   "source": [
    "import yaml\n",
    "\n",
    "from shapely import Point, LineString, LinearRing, Polygon # Geometries\n",
    "from shapely import MultiPoint, MultiLineString, MultiPolygon # Collections\n",
    "from shapely import affinity # Transformations\n",
    "from shapely.plotting import plot_points, plot_line, plot_polygon, patch_from_polygon # Plots\n",
    "\n",
    "import matplotlib.pyplot as plt"
   ]
  },
  {
   "cell_type": "markdown",
   "metadata": {},
   "source": [
    "### User-Defined Functions ###"
   ]
  },
  {
   "cell_type": "code",
   "execution_count": 3,
   "metadata": {},
   "outputs": [],
   "source": [
    "def new_plot(xmin, xmax, ymin, ymax, width=4, height=3, dpi=80):\n",
    "    # Figure\n",
    "    fig, ax = plt.subplots(nrows= 1, ncols= 1, figsize= (width, height), dpi= dpi)\n",
    "    # Limits\n",
    "    ax.set_xlim(xmin= xmin, xmax= xmax)\n",
    "    ax.set_ylim(ymin= ymin, ymax= ymax)\n",
    "    # Grid\n",
    "    ax.grid(which=\"major\", linestyle=\"-\", alpha=0.5)\n",
    "    return fig, ax"
   ]
  },
  {
   "cell_type": "markdown",
   "metadata": {},
   "source": [
    "### Main ###"
   ]
  },
  {
   "cell_type": "code",
   "execution_count": 4,
   "metadata": {},
   "outputs": [],
   "source": [
    "# Reading the YAML config\n",
    "with open(\"./shapely.yaml\", \"r\") as _stream:\n",
    "    yaml_config = yaml.safe_load(_stream)"
   ]
  },
  {
   "cell_type": "markdown",
   "metadata": {},
   "source": [
    "**Geometric Objects**"
   ]
  },
  {
   "cell_type": "code",
   "execution_count": 58,
   "metadata": {},
   "outputs": [
    {
     "name": "stdout",
     "output_type": "stream",
     "text": [
      "Type: Point\n",
      "Area: 0.0\n",
      "Length: 0.0\n",
      "Bounds: (2.0, 1.0, 2.0, 1.0)\n",
      "Coordinates: (2.0, 1.0) (x: 2.0, y: 1.0)\n",
      "Distance to Origin: 2.23606797749979\n"
     ]
    },
    {
     "data": {
      "image/png": "[encoded data removed]",
      "text/plain": [
       "<Figure size 320x240 with 1 Axes>"
      ]
     },
     "metadata": {},
     "output_type": "display_data"
    }
   ],
   "source": [
    "# Creating 'Point'\n",
    "point = Point(2, 1)\n",
    "origin = Point(0, 0)\n",
    "# Plot Canvas\n",
    "fig, ax = new_plot(0, 3, 0, 3)\n",
    "# Shapely Plot\n",
    "plot_points(point, ax= ax, color=\"gray\")\n",
    "# Properties\n",
    "print(\"Type: {}\".format(point.geom_type))\n",
    "print(\"Area: {}\".format(point.area))\n",
    "print(\"Length: {}\".format(point.length))\n",
    "print(\"Bounds: {}\".format(point.bounds))\n",
    "print(\"Coordinates: {} (x: {}, y: {})\".format(list(point.coords)[0], point.x, point.y))\n",
    "print(\"Distance to Origin: {}\".format(point.distance(origin)))"
   ]
  },
  {
   "cell_type": "code",
   "execution_count": 25,
   "metadata": {},
   "outputs": [
    {
     "name": "stdout",
     "output_type": "stream",
     "text": [
      "Type: LineString\n",
      "Area: 0.0\n",
      "Length: 3.0\n",
      "Bounds: (1.0, 1.0, 2.0, 2.0)\n",
      "Coordinates: [(1.0, 1.0), (1.0, 2.0), (2.0, 2.0), (2.0, 1.0)]\n"
     ]
    },
    {
     "data": {
      "image/png": "[encoded data removed]",
      "text/plain": [
       "<Figure size 320x240 with 1 Axes>"
      ]
     },
     "metadata": {},
     "output_type": "display_data"
    }
   ],
   "source": [
    "# Creating 'LineStrings'\n",
    "line = LineString([(1, 1), (1, 2), (2, 2), (2, 1)])\n",
    "# Plot Canvas\n",
    "fig, ax = new_plot(0, 3, 0, 3)\n",
    "# Shapely Plot\n",
    "plot_line(line, ax= ax, add_points= False, color= \"blue\", alpha= 0.75) # Line\n",
    "plot_points(line, ax= ax, color= \"gray\", alpha= 0.75) # Points\n",
    "plot_points(line.boundary, ax= ax, color= \"black\") # Boundary points\n",
    "# Properties\n",
    "print(\"Type: {}\".format(line.geom_type))\n",
    "print(\"Area: {}\".format(line.area))\n",
    "print(\"Length: {}\".format(line.length))\n",
    "print(\"Bounds: {}\".format(line.bounds))\n",
    "print(\"Coordinates: {}\".format(list(line.coords)))"
   ]
  },
  {
   "cell_type": "code",
   "execution_count": 26,
   "metadata": {},
   "outputs": [
    {
     "name": "stdout",
     "output_type": "stream",
     "text": [
      "Type: LinearRing\n",
      "Area: 0.0\n",
      "Length: 4.0\n",
      "Bounds: (1.0, 1.0, 2.0, 2.0)\n",
      "Coordinates: [(1.0, 1.0), (1.0, 2.0), (2.0, 2.0), (2.0, 1.0), (1.0, 1.0)]\n"
     ]
    },
    {
     "data": {
      "image/png": "[encoded data removed]",
      "text/plain": [
       "<Figure size 320x240 with 1 Axes>"
      ]
     },
     "metadata": {},
     "output_type": "display_data"
    }
   ],
   "source": [
    "# Creating 'LinearRing'\n",
    "ring = LinearRing([(1, 1), (1, 2), (2, 2), (2, 1), (1, 1)])\n",
    "# Plot Canvas\n",
    "fig, ax = new_plot(0, 3, 0, 3)\n",
    "# Shapely Plot\n",
    "plot_line(ring, ax= ax, add_points= False, color= \"blue\", alpha= 0.75) # Line\n",
    "plot_points(ring, ax= ax, color= \"gray\", alpha= 0.75) # Points\n",
    "# Properties\n",
    "print(\"Type: {}\".format(ring.geom_type))\n",
    "print(\"Area: {}\".format(ring.area))\n",
    "print(\"Length: {}\".format(ring.length))\n",
    "print(\"Bounds: {}\".format(ring.bounds))\n",
    "print(\"Coordinates: {}\".format(list(ring.coords)))"
   ]
  },
  {
   "cell_type": "code",
   "execution_count": 71,
   "metadata": {},
   "outputs": [
    {
     "name": "stdout",
     "output_type": "stream",
     "text": [
      "Type: Polygon\n",
      "Area: 3.5\n",
      "Length: 12.0\n",
      "Bounds: (0.5, 0.5, 2.5, 2.5)\n",
      "Centroid: (1.5, 1.5)\n",
      "Exterior Coordinates: [(0.5, 0.5), (0.5, 2.5), (2.5, 2.5), (2.5, 0.5), (0.5, 0.5)]\n",
      "Interior Coordinates: [[(1.0, 1.0), (1.5, 1.0), (1.5, 1.5), (1.0, 1.5), (1.0, 1.0)], [(1.5, 1.5), (2.0, 1.5), (2.0, 2.0), (1.5, 2.0), (1.5, 1.5)]]\n"
     ]
    },
    {
     "data": {
      "image/png": "[encoded data removed]",
      "text/plain": [
       "<Figure size 320x240 with 1 Axes>"
      ]
     },
     "metadata": {},
     "output_type": "display_data"
    }
   ],
   "source": [
    "# Creating 'Polygon' (with hole)\n",
    "ext = [(0.5, 0.5), (0.5, 2.5), (2.5, 2.5), (2.5, 0.5), (0.5, 0.5)]\n",
    "int1 = [(1, 1), (1.5, 1), (1.5, 1.5), (1, 1.5), (1, 1)] # Must be counter-clockwise\n",
    "int2 = [(1.5, 1.5), (2, 1.5), (2, 2), (1.5, 2), (1.5, 1.5)] # Must be counter-clockwise\n",
    "polygon = Polygon(shell= ext, holes= [int1, int2])\n",
    "# Plot Canvas\n",
    "fig, ax = new_plot(0, 3, 0, 3)\n",
    "# Shapely Plot\n",
    "plot_polygon(polygon, ax= ax, add_points= False, color= \"blue\", alpha= 0.5) # Line\n",
    "plot_points(polygon, ax= ax, color= \"gray\", alpha= 0.75) # Points\n",
    "# Properties\n",
    "print(\"Type: {}\".format(polygon.geom_type))\n",
    "print(\"Area: {}\".format(polygon.area))\n",
    "print(\"Length: {}\".format(polygon.length))\n",
    "print(\"Bounds: {}\".format(polygon.bounds))\n",
    "print(\"Centroid: {}\".format(list(polygon.centroid.coords)[0]))\n",
    "print(\"Exterior Coordinates: {}\".format(list(polygon.exterior.coords))) # LinearRing\n",
    "print(\"Interior Coordinates: {}\".format([list(each.coords) for each in list(polygon.interiors)])) # Sequence"
   ]
  },
  {
   "cell_type": "markdown",
   "metadata": {},
   "source": [
    "**Collections**\n"
   ]
  },
  {
   "cell_type": "code",
   "execution_count": 90,
   "metadata": {},
   "outputs": [
    {
     "name": "stdout",
     "output_type": "stream",
     "text": [
      "Type: MultiPoint\n",
      "Area: 0.0\n",
      "Length: 0.0\n",
      "Bounds: (1.0, 1.0, 2.0, 2.0)\n",
      "Coordinates: [(1.0, 1.0), (1.0, 2.0), (2.0, 1.0), (2.0, 2.0)]\n"
     ]
    },
    {
     "data": {
      "image/png": "[encoded data removed]",
      "text/plain": [
       "<Figure size 320x240 with 1 Axes>"
      ]
     },
     "metadata": {},
     "output_type": "display_data"
    }
   ],
   "source": [
    "# Creating 'MultiPoint'\n",
    "multi_point = MultiPoint([(1, 1), (1, 2), (2, 1), (2, 2)])\n",
    "# Plot Canvas\n",
    "fig, ax = new_plot(0, 3, 0, 3)\n",
    "# Shapely Plot\n",
    "plot_points(multi_point, ax= ax, color=\"gray\")\n",
    "# Properties\n",
    "print(\"Type: {}\".format(multi_point.geom_type))\n",
    "print(\"Area: {}\".format(multi_point.area))\n",
    "print(\"Length: {}\".format(multi_point.length))\n",
    "print(\"Bounds: {}\".format(multi_point.bounds))\n",
    "print(\"Coordinates: {}\".format([each.coords[0] for each in list(multi_point.geoms)]))"
   ]
  },
  {
   "cell_type": "code",
   "execution_count": 110,
   "metadata": {},
   "outputs": [
    {
     "name": "stdout",
     "output_type": "stream",
     "text": [
      "Type: MultiLineString\n",
      "Area: 0.0\n",
      "Length: 5.357388321059432\n",
      "Bounds: (0.5, 0.5, 2.5, 2.5)\n",
      "Coordinates: [[(0.5, 0.5), (1.5, 1.5), (2.5, 2.0)], [(1.0, 2.5), (2.0, 2.5), (2.5, 2.0), (2.0, 1.0)]]\n"
     ]
    },
    {
     "data": {
      "image/png": "[encoded data removed]",
      "text/plain": [
       "<Figure size 320x240 with 1 Axes>"
      ]
     },
     "metadata": {},
     "output_type": "display_data"
    }
   ],
   "source": [
    "# Creating 'MultiLineString'\n",
    "multi_line = MultiLineString([((0.5, 0.5), (1.5, 1.5), (2.5, 2)), \n",
    "                              ((1, 2.5), (2, 2.5), (2.5, 2), (2, 1))])\n",
    "# Plot Canvas\n",
    "fig, ax = new_plot(0, 3, 0, 3)\n",
    "# Shapely Plot\n",
    "plot_line(multi_line, ax= ax, color= \"blue\")\n",
    "plot_points(multi_line, ax= ax, color= \"gray\")\n",
    "plot_points(multi_line.boundary, ax= ax, color= \"black\")\n",
    "# Properties\n",
    "print(\"Type: {}\".format(multi_line.geom_type))\n",
    "print(\"Area: {}\".format(multi_line.area))\n",
    "print(\"Length: {}\".format(multi_line.length))\n",
    "print(\"Bounds: {}\".format(multi_line.bounds))\n",
    "print(\"Coordinates: {}\".format([list(each.coords) for each in list(multi_line.geoms)]))"
   ]
  },
  {
   "cell_type": "code",
   "execution_count": 112,
   "metadata": {},
   "outputs": [
    {
     "name": "stdout",
     "output_type": "stream",
     "text": [
      "Type: MultiPolygon\n",
      "Area: 2.0\n",
      "Length: 8.0\n",
      "Bounds: (1.0, 1.0, 3.0, 3.0)\n",
      "Geometries: [[(1.0, 1.0), (1.0, 2.0), (2.0, 2.0), (2.0, 1.0), (1.0, 1.0)], [(2.0, 2.0), (2.0, 3.0), (3.0, 3.0), (3.0, 2.0), (2.0, 2.0)]]\n"
     ]
    },
    {
     "data": {
      "image/png": "[encoded data removed]",
      "text/plain": [
       "<Figure size 320x240 with 1 Axes>"
      ]
     },
     "metadata": {},
     "output_type": "display_data"
    }
   ],
   "source": [
    "# Creating 'MultiPolygon'\n",
    "polygon1 = [(1, 1), (1, 2), (2, 2), (2, 1), (1, 1)]\n",
    "polygon2 = [(2, 2), (2, 3), (3, 3), (3, 2), (2, 2)]\n",
    "multi_polygon = MultiPolygon([[polygon1], [polygon2]]) # Alternative: multi_polygon = MultiPolygon([[polygon1, []], [polygon2, []]])\n",
    "# Plot Canvas\n",
    "fig, ax = new_plot(0, 4, 0, 4)\n",
    "# Shapely Plot\n",
    "plot_polygon(multi_polygon, ax= ax, add_points= True, color= \"blue\", alpha= 0.5)\n",
    "# Properties\n",
    "print(\"Type: {}\".format(multi_polygon.geom_type))\n",
    "print(\"Area: {}\".format(multi_polygon.area))\n",
    "print(\"Length: {}\".format(multi_polygon.length))\n",
    "print(\"Bounds: {}\".format(multi_polygon.bounds))\n",
    "print(\"Geometries: {}\".format([list(each.exterior.coords) for each in list(multi_polygon.geoms)]))"
   ]
  },
  {
   "cell_type": "markdown",
   "metadata": {},
   "source": [
    "**Unary Predicates**"
   ]
  },
  {
   "cell_type": "code",
   "execution_count": 114,
   "metadata": {},
   "outputs": [
    {
     "name": "stdout",
     "output_type": "stream",
     "text": [
      "Has 'z': False\n",
      "Is Empty?: False\n",
      "Is Ring?: False\n",
      "Is Simple?: True\n",
      "Is Valid?: True\n"
     ]
    },
    {
     "data": {
      "image/png": "[encoded data removed]",
      "text/plain": [
       "<Figure size 320x240 with 1 Axes>"
      ]
     },
     "metadata": {},
     "output_type": "display_data"
    }
   ],
   "source": [
    "# Creating 'Polygon' (without hole)\n",
    "polygon = Polygon(shell= [(0.5, 0.5), (0.5, 2.5), (2.5, 2.5), (2.5, 0.5), (0.5, 0.5)])\n",
    "# Plot Canvas\n",
    "fig, ax = new_plot(0, 3, 0, 3)\n",
    "# Shapely Plot\n",
    "plot_polygon(polygon, ax= ax, add_points= False, color= \"blue\", alpha= 0.5) # Line\n",
    "plot_points(polygon, ax= ax, color= \"gray\", alpha= 0.75) # Points\n",
    "# Unary Predicates\n",
    "print(\"Has 'z': {}\".format(polygon.has_z))\n",
    "print(\"Is Empty?: {}\".format(polygon.is_empty))\n",
    "print(\"Is Ring?: {}\".format(polygon.is_ring))\n",
    "print(\"Is Simple?: {}\".format(polygon.is_simple))\n",
    "print(\"Is Valid?: {}\".format(polygon.is_valid))"
   ]
  },
  {
   "cell_type": "markdown",
   "metadata": {},
   "source": [
    "**Binary Predicates**"
   ]
  },
  {
   "cell_type": "code",
   "execution_count": 115,
   "metadata": {},
   "outputs": [
    {
     "name": "stdout",
     "output_type": "stream",
     "text": [
      "__eq__: False\n",
      "equals: False\n",
      "contains: False\n",
      "covered_by: False\n",
      "crosses: False\n",
      "disjoint: False\n",
      "intersects: True\n",
      "overlaps: True\n",
      "touches: False\n",
      "within: False\n"
     ]
    },
    {
     "data": {
      "image/png": "[encoded data removed]",
      "text/plain": [
       "<Figure size 320x240 with 1 Axes>"
      ]
     },
     "metadata": {},
     "output_type": "display_data"
    }
   ],
   "source": [
    "# Creating 'Polygon's\n",
    "polygon1 = Polygon(shell= [(1, 1), (1, 3), (3, 3), (3, 1), (1, 1)])\n",
    "polygon2 = Polygon(shell= [(2, 2), (2, 4), (4, 4), (4, 2), (2, 2)])\n",
    "# Plot Canvas\n",
    "fig, ax = new_plot(0, 5, 0, 5)\n",
    "# Shapely Plot\n",
    "plot_polygon(polygon1, ax= ax, add_points= True, color= \"blue\", alpha= 0.5)\n",
    "plot_polygon(polygon2, ax= ax, add_points= True, color= \"green\", alpha= 0.5)\n",
    "# Binary Predicates (returns True if comment conditions are met)\n",
    "print(\"__eq__: {}\".format(polygon1.__eq__(polygon2))) # Same geometric type and coordinates match\n",
    "print(\"equals: {}\".format(polygon1.equals(polygon2))) # Same 'boundary', 'interior' and 'exterior'\n",
    "print(\"contains: {}\".format(polygon1.contains(polygon2))) # No points of 'polygon2' lie in the 'polygon1's 'exterior' + ...\n",
    "                                                          # At least 1 point of 'polygon2's 'interior' lies in 'polygon1's 'interior'\n",
    "print(\"covered_by: {}\".format(polygon1.covered_by(polygon2))) # Every point of 'polygon2' is a point of 'polygon1's 'interior'/'boundary'\n",
    "print(\"crosses: {}\".format(polygon1.crosses(polygon2))) # 'polygon1's 'interior' intersects 'polygon2's 'interior' but does not contain it + ...\n",
    "                                                        # intersection's dimension is less than 'polygon1'/'polygon2' dimension \n",
    "print(\"disjoint: {}\".format(polygon1.disjoint(polygon2))) # 'polygon1's 'boundary' and 'interior' do not intersect at all with those of 'polygon2'\n",
    "print(\"intersects: {}\".format(polygon1.intersects(polygon2))) # 'polygon1's 'boundary'/'interior' intersect in any way with those of 'polygon2'\n",
    "print(\"overlaps: {}\".format(polygon1.overlaps(polygon2))) # Geometries have 1+ but not all points in common, have same dimension, and intersection of 'interiors' has same dimension as geometries\n",
    "print(\"touches: {}\".format(polygon1.touches(polygon2))) # Geometries have at least 1 point in common and their 'interiors' do not intersect\n",
    "print(\"within: {}\".format(polygon1.within(polygon2))) # 'polygon1's 'boundary' and 'interior' intersect only with 'polygon2's 'interior' (not its 'boundary'/'exterior')"
   ]
  },
  {
   "cell_type": "markdown",
   "metadata": {},
   "source": [
    "**Set-Theoretic Methods**"
   ]
  },
  {
   "cell_type": "code",
   "execution_count": 117,
   "metadata": {},
   "outputs": [
    {
     "name": "stdout",
     "output_type": "stream",
     "text": [
      "Type: Point\n"
     ]
    },
    {
     "data": {
      "image/png": "[encoded data removed]",
      "text/plain": [
       "<Figure size 320x240 with 1 Axes>"
      ]
     },
     "metadata": {},
     "output_type": "display_data"
    }
   ],
   "source": [
    "# Creating 'Polygon'\n",
    "polygon = Polygon(shell= [(1, 1), (1, 3), (3, 3), (3, 1), (1, 1)])\n",
    "centroid = polygon.centroid\n",
    "# Plot Canvas\n",
    "fig, ax = new_plot(0, 5, 0, 5)\n",
    "# Shapely Plot\n",
    "plot_points(centroid, ax= ax, color= \"gray\")\n",
    "# Properties\n",
    "print(\"Type: {}\".format(centroid.geom_type))"
   ]
  },
  {
   "cell_type": "code",
   "execution_count": 116,
   "metadata": {},
   "outputs": [
    {
     "name": "stdout",
     "output_type": "stream",
     "text": [
      "Type: LineString\n"
     ]
    },
    {
     "data": {
      "image/png": "[encoded data removed]",
      "text/plain": [
       "<Figure size 320x240 with 1 Axes>"
      ]
     },
     "metadata": {},
     "output_type": "display_data"
    }
   ],
   "source": [
    "# Creating 'Polygon'\n",
    "polygon = Polygon(shell= [(1, 1), (1, 3), (3, 3), (3, 1), (1, 1)])\n",
    "boundary = polygon.boundary\n",
    "# Plot Canvas\n",
    "fig, ax = new_plot(0, 5, 0, 5)\n",
    "# Shapely Plot\n",
    "plot_line(boundary, ax= ax, color= \"blue\")\n",
    "plot_points(boundary, ax= ax, color= \"gray\")\n",
    "# Properties\n",
    "print(\"Type: {}\".format(boundary.geom_type))"
   ]
  },
  {
   "cell_type": "code",
   "execution_count": 118,
   "metadata": {},
   "outputs": [
    {
     "name": "stdout",
     "output_type": "stream",
     "text": [
      "Type: Polygon\n",
      "Area: 3.0\n",
      "Length: 8.0\n",
      "Bounds: (1.0, 1.0, 3.0, 3.0)\n",
      "Exterior Coordinates: [(1.0, 3.0), (2.0, 3.0), (2.0, 2.0), (3.0, 2.0), (3.0, 1.0), (1.0, 1.0), (1.0, 3.0)]\n",
      "Intersects?: POLYGON ((1 3, 2 3, 2 2, 3 2, 3 1, 1 1, 1 3))\n"
     ]
    },
    {
     "data": {
      "image/png": "[encoded data removed]",
      "text/plain": [
       "<Figure size 320x240 with 1 Axes>"
      ]
     },
     "metadata": {},
     "output_type": "display_data"
    }
   ],
   "source": [
    "# Creating 'Polygon's\n",
    "polygon1 = Polygon(shell= [(1, 1), (1, 3), (3, 3), (3, 1), (1, 1)]) # Blue\n",
    "polygon2 = Polygon(shell= [(2, 2), (2, 4), (4, 4), (4, 2), (2, 2)]) # Green\n",
    "difference = polygon1.difference(polygon2) # Red\n",
    "# Plot Canvas\n",
    "fig, ax = new_plot(0, 5, 0, 5)\n",
    "# Shapely Plot\n",
    "plot_polygon(polygon1, ax= ax, add_points= True, color= \"blue\", alpha= 0.5)\n",
    "plot_polygon(polygon2, ax= ax, add_points= True, color= \"green\", alpha= 0.5)\n",
    "plot_polygon(difference, ax= ax, add_points= True, color= \"red\", alpha= 0.5)\n",
    "# Properties\n",
    "print(\"Type: {}\".format(difference.geom_type))\n",
    "print(\"Area: {}\".format(difference.area))\n",
    "print(\"Length: {}\".format(difference.length))\n",
    "print(\"Bounds: {}\".format(difference.bounds))\n",
    "print(\"Exterior Coordinates: {}\".format(list(difference.exterior.coords)))"
   ]
  },
  {
   "cell_type": "code",
   "execution_count": 119,
   "metadata": {},
   "outputs": [
    {
     "name": "stdout",
     "output_type": "stream",
     "text": [
      "Type: Polygon\n",
      "Area: 1.0\n",
      "Length: 4.0\n",
      "Bounds: (2.0, 2.0, 3.0, 3.0)\n",
      "Exterior Coordinates: [(3.0, 3.0), (3.0, 2.0), (2.0, 2.0), (2.0, 3.0), (3.0, 3.0)]\n"
     ]
    },
    {
     "data": {
      "image/png": "[encoded data removed]",
      "text/plain": [
       "<Figure size 320x240 with 1 Axes>"
      ]
     },
     "metadata": {},
     "output_type": "display_data"
    }
   ],
   "source": [
    "# Creating 'Polygon's\n",
    "polygon1 = Polygon(shell= [(1, 1), (1, 3), (3, 3), (3, 1), (1, 1)])\n",
    "polygon2 = Polygon(shell= [(2, 2), (2, 4), (4, 4), (4, 2), (2, 2)])\n",
    "intersection = polygon1.intersection(polygon2)\n",
    "# Plot Canvas\n",
    "fig, ax = new_plot(0, 5, 0, 5)\n",
    "# Shapely Plot\n",
    "plot_polygon(polygon1, ax= ax, add_points= True, color= \"blue\", alpha= 0.5)\n",
    "plot_polygon(polygon2, ax= ax, add_points= True, color= \"green\", alpha= 0.5)\n",
    "plot_polygon(intersection, ax= ax, add_points= True, color= \"red\", alpha= 0.5)\n",
    "# Properties\n",
    "print(\"Type: {}\".format(intersection.geom_type))\n",
    "print(\"Area: {}\".format(intersection.area))\n",
    "print(\"Length: {}\".format(intersection.length))\n",
    "print(\"Bounds: {}\".format(intersection.bounds))\n",
    "print(\"Exterior Coordinates: {}\".format(list(intersection.exterior.coords)))"
   ]
  },
  {
   "cell_type": "code",
   "execution_count": 120,
   "metadata": {},
   "outputs": [
    {
     "name": "stdout",
     "output_type": "stream",
     "text": [
      "Type: Polygon\n",
      "Area: 7.0\n",
      "Length: 12.0\n",
      "Bounds: (1.0, 1.0, 4.0, 4.0)\n",
      "Exterior Coordinates: [(1.0, 3.0), (2.0, 3.0), (2.0, 4.0), (4.0, 4.0), (4.0, 2.0), (3.0, 2.0), (3.0, 1.0), (1.0, 1.0), (1.0, 3.0)]\n"
     ]
    },
    {
     "data": {
      "image/png": "[encoded data removed]",
      "text/plain": [
       "<Figure size 320x240 with 1 Axes>"
      ]
     },
     "metadata": {},
     "output_type": "display_data"
    }
   ],
   "source": [
    "# Creating 'Polygon's\n",
    "polygon1 = Polygon(shell= [(1, 1), (1, 3), (3, 3), (3, 1), (1, 1)])\n",
    "polygon2 = Polygon(shell= [(2, 2), (2, 4), (4, 4), (4, 2), (2, 2)])\n",
    "union = polygon1.union(polygon2)\n",
    "# Plot Canvas\n",
    "fig, ax = new_plot(0, 5, 0, 5)\n",
    "# Shapely Plot\n",
    "plot_polygon(polygon1, ax= ax, add_points= True, color= \"blue\", alpha= 0.5)\n",
    "plot_polygon(polygon2, ax= ax, add_points= True, color= \"green\", alpha= 0.5)\n",
    "plot_polygon(union, ax= ax, add_points= True, color= \"red\", alpha= 0.5)\n",
    "# Properties\n",
    "print(\"Type: {}\".format(union.geom_type))\n",
    "print(\"Area: {}\".format(union.area))\n",
    "print(\"Length: {}\".format(union.length))\n",
    "print(\"Bounds: {}\".format(union.bounds))\n",
    "print(\"Exterior Coordinates: {}\".format(list(union.exterior.coords)))"
   ]
  },
  {
   "cell_type": "markdown",
   "metadata": {},
   "source": [
    "**Constructive Methods**"
   ]
  },
  {
   "cell_type": "code",
   "execution_count": 128,
   "metadata": {},
   "outputs": [
    {
     "name": "stdout",
     "output_type": "stream",
     "text": [
      "Type: Polygon\n",
      "Area: 0.31568274245273\n",
      "Length: 6.514033115695476\n",
      "Bounds: (0.9, 1.0, 2.1, 2.1)\n"
     ]
    },
    {
     "data": {
      "image/png": "[encoded data removed]",
      "text/plain": [
       "<Figure size 320x240 with 1 Axes>"
      ]
     },
     "metadata": {},
     "output_type": "display_data"
    }
   ],
   "source": [
    "# Creating 'LineStrings'\n",
    "line = LineString([(1, 1), (1, 2), (2, 2), (2, 1)])\n",
    "buffer = line.buffer(0.1, single_sided=True) # Positive 'distance' means left-sided (vie versa for right-sided)\n",
    "# Plot Canvas\n",
    "fig, ax = new_plot(0, 3, 0, 3)\n",
    "# Shapely Plot\n",
    "plot_line(line, ax= ax, add_points= True, color= \"blue\", alpha= 0.75) # Line\n",
    "plot_polygon(buffer, ax= ax, add_points= False, color= \"gray\", alpha= 0.75) # buffer\n",
    "# Properties\n",
    "print(\"Type: {}\".format(buffer.geom_type))\n",
    "print(\"Area: {}\".format(buffer.area))\n",
    "print(\"Length: {}\".format(buffer.length))\n",
    "print(\"Bounds: {}\".format(buffer.bounds))"
   ]
  },
  {
   "cell_type": "code",
   "execution_count": 129,
   "metadata": {},
   "outputs": [
    {
     "name": "stdout",
     "output_type": "stream",
     "text": [
      "Type: Polygon\n",
      "Area: 1.0\n",
      "Length: 4.0\n",
      "Bounds: (1.0, 1.0, 2.0, 2.0)\n"
     ]
    },
    {
     "data": {
      "image/png": "[encoded data removed]",
      "text/plain": [
       "<Figure size 320x240 with 1 Axes>"
      ]
     },
     "metadata": {},
     "output_type": "display_data"
    }
   ],
   "source": [
    "# Creating 'LineStrings'\n",
    "line = LineString([(1, 1), (1, 2), (2, 2), (2, 1)])\n",
    "convex_hull = line.convex_hull\n",
    "# Plot Canvas\n",
    "fig, ax = new_plot(0, 3, 0, 3)\n",
    "# Shapely Plot\n",
    "plot_line(line, ax= ax, add_points= True, color= \"blue\", alpha= 0.75) # Line\n",
    "plot_polygon(convex_hull, ax= ax, add_points= False, color= \"gray\", alpha= 0.75) # buffer\n",
    "# Properties\n",
    "print(\"Type: {}\".format(convex_hull.geom_type))\n",
    "print(\"Area: {}\".format(convex_hull.area))\n",
    "print(\"Length: {}\".format(convex_hull.length))\n",
    "print(\"Bounds: {}\".format(convex_hull.bounds))"
   ]
  },
  {
   "cell_type": "code",
   "execution_count": 130,
   "metadata": {},
   "outputs": [
    {
     "name": "stdout",
     "output_type": "stream",
     "text": [
      "Type: Polygon\n",
      "Area: 1.0\n",
      "Length: 4.0\n",
      "Bounds: (1.0, 1.0, 2.0, 2.0)\n"
     ]
    },
    {
     "data": {
      "image/png": "[encoded data removed]",
      "text/plain": [
       "<Figure size 320x240 with 1 Axes>"
      ]
     },
     "metadata": {},
     "output_type": "display_data"
    }
   ],
   "source": [
    "# Creating 'LineStrings'\n",
    "line = LineString([(1, 1), (1, 2), (2, 2), (2, 1)])\n",
    "envelope = line.envelope\n",
    "# Plot Canvas\n",
    "fig, ax = new_plot(0, 3, 0, 3)\n",
    "# Shapely Plot\n",
    "plot_line(line, ax= ax, add_points= True, color= \"blue\", alpha= 0.75) # Line\n",
    "plot_polygon(envelope, ax= ax, add_points= False, color= \"gray\", alpha= 0.75) # buffer\n",
    "# Properties\n",
    "print(\"Type: {}\".format(envelope.geom_type))\n",
    "print(\"Area: {}\".format(envelope.area))\n",
    "print(\"Length: {}\".format(envelope.length))\n",
    "print(\"Bounds: {}\".format(envelope.bounds))"
   ]
  },
  {
   "cell_type": "code",
   "execution_count": 139,
   "metadata": {},
   "outputs": [
    {
     "name": "stdout",
     "output_type": "stream",
     "text": [
      "Type: Polygon\n",
      "Area: 2.82842712474619\n",
      "Length: 6.1229349178414365\n",
      "Bounds: (0.5, 0.5, 2.5, 2.5)\n"
     ]
    },
    {
     "data": {
      "image/png": "[encoded data removed]",
      "text/plain": [
       "<Figure size 320x240 with 1 Axes>"
      ]
     },
     "metadata": {},
     "output_type": "display_data"
    }
   ],
   "source": [
    "# Creating 'LineStrings'\n",
    "circle = Point(1.5, 1.5).buffer(1)\n",
    "simplify = circle.simplify(0.1, preserve_topology=False)\n",
    "# Plot Canvas\n",
    "fig, ax = new_plot(0, 3, 0, 3)\n",
    "# Shapely Plot\n",
    "plot_polygon(circle, ax= ax, add_points= False, color= \"gray\", alpha= 0.75) # Original\n",
    "plot_polygon(simplify, ax= ax, add_points= False, color= \"blue\", alpha= 0.5) # simplify\n",
    "# Properties\n",
    "print(\"Type: {}\".format(simplify.geom_type))\n",
    "print(\"Area: {}\".format(simplify.area))\n",
    "print(\"Length: {}\".format(simplify.length))\n",
    "print(\"Bounds: {}\".format(simplify.bounds))"
   ]
  },
  {
   "cell_type": "markdown",
   "metadata": {},
   "source": [
    "**Affine Transformations**"
   ]
  },
  {
   "cell_type": "code",
   "execution_count": 143,
   "metadata": {},
   "outputs": [
    {
     "data": {
      "text/plain": [
       "(<matplotlib.patches.PathPatch at 0x11e9cc400>,\n",
       " <matplotlib.lines.Line2D at 0x11e9cca60>)"
      ]
     },
     "execution_count": 143,
     "metadata": {},
     "output_type": "execute_result"
    },
    {
     "data": {
      "image/png": "[encoded data removed]",
      "text/plain": [
       "<Figure size 320x240 with 1 Axes>"
      ]
     },
     "metadata": {},
     "output_type": "display_data"
    }
   ],
   "source": [
    "# Creating 'LineStrings'\n",
    "line = LineString([(1, 1), (1, 2), (2, 2), (2, 1)])\n",
    "rotate = affinity.rotate(line, 90, origin=\"centroid\")\n",
    "# Plot Canvas\n",
    "fig, ax = new_plot(0, 3, 0, 3)\n",
    "# Shapely Plot\n",
    "plot_points(line.centroid, ax= ax, color= \"black\") # Centroid\n",
    "plot_line(line, ax= ax, add_points= True, color= \"gray\", alpha= 0.75) # Original\n",
    "plot_line(rotate, ax= ax, add_points= True, color= \"blue\", alpha= 0.75) # Rotate"
   ]
  },
  {
   "cell_type": "code",
   "execution_count": 146,
   "metadata": {},
   "outputs": [
    {
     "data": {
      "text/plain": [
       "<matplotlib.patches.PathPatch at 0x11e6fb790>"
      ]
     },
     "execution_count": 146,
     "metadata": {},
     "output_type": "execute_result"
    },
    {
     "data": {
      "image/png": "[encoded data removed]",
      "text/plain": [
       "<Figure size 320x240 with 1 Axes>"
      ]
     },
     "metadata": {},
     "output_type": "display_data"
    }
   ],
   "source": [
    "# Creating 'LineStrings'\n",
    "polygon = Polygon([(1, 1), (2, 3), (3, 1)])\n",
    "scale = affinity.scale(polygon, xfact=1.5, yfact=-1) # 'xfact': scales horizontally / 'yfact': scales vertically\n",
    "# Plot Canvas\n",
    "fig, ax = new_plot(0, 4, 0, 4)\n",
    "# Shapely Plot\n",
    "plot_polygon(polygon, ax= ax, add_points= False, color= \"gray\", alpha= 0.75) # Original\n",
    "plot_polygon(scale, ax= ax, add_points= False, color= \"blue\", alpha= 0.75) # Original"
   ]
  },
  {
   "cell_type": "code",
   "execution_count": 148,
   "metadata": {},
   "outputs": [
    {
     "data": {
      "text/plain": [
       "<matplotlib.patches.PathPatch at 0x11e7f1ca0>"
      ]
     },
     "execution_count": 148,
     "metadata": {},
     "output_type": "execute_result"
    },
    {
     "data": {
      "image/png": "[encoded data removed]",
      "text/plain": [
       "<Figure size 320x240 with 1 Axes>"
      ]
     },
     "metadata": {},
     "output_type": "display_data"
    }
   ],
   "source": [
    "# Creating 'LineStrings'\n",
    "polygon = Polygon([(1, 1), (2, 3), (3, 1)])\n",
    "translate = affinity.translate(polygon, xoff=1, yoff=0)\n",
    "# Plot Canvas\n",
    "fig, ax = new_plot(0, 5, 0, 4)\n",
    "# Shapely Plot\n",
    "plot_polygon(polygon, ax= ax, add_points= False, color= \"gray\", alpha= 0.75) # Original\n",
    "plot_polygon(translate, ax= ax, add_points= False, color= \"blue\", alpha= 0.75) # Original"
   ]
  },
  {
   "cell_type": "markdown",
   "metadata": {},
   "source": [
    "---"
   ]
  }
 ],
 "metadata": {
  "kernelspec": {
   "display_name": "Python 3",
   "language": "python",
   "name": "python3"
  },
  "language_info": {
   "codemirror_mode": {
    "name": "ipython",
    "version": 3
   },
   "file_extension": ".py",
   "mimetype": "text/x-python",
   "name": "python",
   "nbconvert_exporter": "python",
   "pygments_lexer": "ipython3",
   "version": "3.9.6"
  }
 },
 "nbformat": 4,
 "nbformat_minor": 2
}
